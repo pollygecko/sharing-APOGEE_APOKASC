{
 "cells": [
  {
   "cell_type": "code",
   "execution_count": 60,
   "id": "aaa34e8e",
   "metadata": {},
   "outputs": [],
   "source": [
    "import astropy\n",
    "from astropy.io import fits\n",
    "import numpy as np\n",
    "import matplotlib.pyplot as plt\n",
    "from scipy.optimize import curve_fit\n",
    "from matplotlib.pyplot import figure"
   ]
  },
  {
   "cell_type": "code",
   "execution_count": 61,
   "id": "626f21cd",
   "metadata": {},
   "outputs": [],
   "source": [
    "#APOKASC file & file variables\n",
    "hdul = fits.open(r\"/Users/amber3/Desktop/SSI/APOKASC_cat_v6.7.2.fits\")\n",
    "#hdul.info()\n",
    "hdu = hdul[1]\n",
    "data = hdu.data\n",
    "#print(np.shape(data))\n",
    "KIC_A = hdu.data['KEPLER_INT'] \n",
    "Logg_A = hdu.data['DR16_LOGG_COR']\n",
    "Logg_err = hdu.data['DR16_LOGG_COR_ERR']\n",
    "Teff_A = hdu.data['DR16_TEFF_COR']\n",
    "Teff_err = hdu.data['DR16_TEFF_COR_ERR']\n",
    "FeH_A = hdu.data['DR16_M_H_COR']\n",
    "FeH_A_err = hdu.data['Dr16_M_H_COR_ERR']\n",
    "#print(Logg_A)\n",
    "FeH_err = hdu.data['DR16_M_H_COR_ERR']\n",
    "R_APO3 = hdu.data['APOKASC3P_RADIUS']\n",
    "R_APO3_err = hdu.data['APOKASC3P_RADIUS_ERR']\n",
    "R_Gaia = hdu.data['GAIA_RADIUS'] #no error on this radius\n",
    "M_APO3 = hdu.data['APOKASC3P_MASS']\n",
    "M_APO3_err = hdu.data['APOKASC3P_MASS_ERR']"
   ]
  },
  {
   "cell_type": "code",
   "execution_count": 62,
   "id": "acaed431",
   "metadata": {},
   "outputs": [],
   "source": [
    "#APOLLINAIRE file & file variables (b = background)\n",
    "hdul_b = fits.open(r\"/Users/amber3/Desktop/SSI/Selected_stars_final.fits\")\n",
    "hdu_b = hdul_b[0]\n",
    "data_b = hdu_b.data\n",
    "KIC_b = np.array(data_b[:,0,0])\n",
    "#print(KIC_b)"
   ]
  },
  {
   "cell_type": "code",
   "execution_count": 81,
   "id": "8f9c7a33",
   "metadata": {},
   "outputs": [
    {
     "name": "stdout",
     "output_type": "stream",
     "text": [
      "(array([   0,    1,    2, ..., 3997, 3998, 3999]),)\n",
      "(array([ 318,  761,  794, 2155, 2210, 3249, 3296, 3400, 3604]),)\n",
      "[ 863 4166 4232 ... 5782 5784 5795]\n"
     ]
    }
   ],
   "source": [
    "common_KIC, A_indices, b_indices = np.intersect1d(KIC_A, KIC_b, return_indices=True)\n",
    "#print(np.shape(A_indices), np.shape(b_indices))\n",
    "good_indices = np.where(Teff_A[A_indices]*R_APO3[A_indices] > 0)\n",
    "print(good_indices)\n",
    "KIC_b = KIC_b[b_indices]\n",
    "b_indices = b_indices[good_indices]\n",
    "A_indices = A_indices[good_indices]\n",
    "print(np.where(Teff_A[A_indices] < 0))\n",
    "print(A_indices) #this seems to be working but then it doesn't below\n",
    "\n",
    "Amp_HV1 = np.array(data_b[b_indices,0,6])\n",
    "Amp_HV1_err = np.array(data_b[b_indices,1,6])\n",
    "Amp_HV2 = np.array(data_b[b_indices,0,9])\n",
    "Amp_HV2_err = np.array(data_b[b_indices,1,9])\n",
    "Freq_HV1 = np.array(data_b[b_indices,0,7])\n",
    "Freq_HV1_err = np.array(data_b[b_indices,1,7])\n",
    "Freq_HV2 = np.array(data_b[b_indices,0,10])\n",
    "Freq_HV2_err = np.array(data_b[b_indices,1,10])\n",
    "Evol_stage = np.array(data_b[b_indices,0,3])\n",
    "#print(KIC_A, KIC_b)"
   ]
  },
  {
   "cell_type": "code",
   "execution_count": 80,
   "id": "2d741af1",
   "metadata": {},
   "outputs": [
    {
     "name": "stdout",
     "output_type": "stream",
     "text": [
      "[4635.539  4786.9126 4781.582  ... 4898.131  4992.812  4641.728 ]\n",
      "(array([ 318,  761,  794, 2155, 2210, 3249, 3296, 3400, 3604]),)\n"
     ]
    },
    {
     "name": "stderr",
     "output_type": "stream",
     "text": [
      "/var/folders/yk/s_2b7kzx717dbt8bm2wpx7qr0000gr/T/ipykernel_6435/2901714727.py:11: RuntimeWarning: invalid value encountered in log10\n",
      "  log_Teff_final = np.log10(Teff_final)\n"
     ]
    }
   ],
   "source": [
    "R_APO3_final = R_APO3[A_indices]\n",
    "R_APO3_final_err = R_APO3_err[A_indices]\n",
    "R_Gaia_final = R_Gaia[A_indices] #no err yet\n",
    "#print(np.shape(Amp_HV1), np.shape(R_APO3_final))#bruh\n",
    "\n",
    "logg_final = Logg_A[A_indices]\n",
    "logg_final_err = Logg_err[A_indices]\n",
    "Teff_final = Teff_A[A_indices]\n",
    "print(Teff_final)\n",
    "print(np.where(Teff_final < 0)) #why did this not change? A_indices is defined above\n",
    "log_Teff_final = np.log10(Teff_final)\n",
    "Teff_final_err = Teff_err[A_indices]\n",
    "Teff_err_log = ((Teff_final_err)/(log_Teff_final))/np.log(10) \n",
    "FeH_final = FeH_A[A_indices]\n",
    "FeH_final_err = FeH_A_err[A_indices]\n",
    "#print(log_Teff_final) #runtime warning with neg values?\n",
    "#print(Teff_err_log)\n",
    "\n",
    "rpw = 2\n",
    "\n",
    "Amp_HV1_APO3 =  Amp_HV1 * R_APO3_final**rpw\n",
    "Amp_HV1_APO3_err = ((Amp_HV1_err/Amp_HV1) + (rpw*R_APO3_final_err/R_APO3_final)) * Amp_HV1_APO3\n",
    "Amp_HV1_APO3_err_log = ((Amp_HV1_APO3_err)/(Amp_HV1_APO3))/np.log(10)\n",
    "\n",
    "Amp_HV2_APO3 =  Amp_HV2 * R_APO3_final**rpw\n",
    "Amp_HV2_APO3_err = ((Amp_HV2_err/Amp_HV2) + (rpw*R_APO3_final_err/R_APO3_final)) * Amp_HV2_APO3\n",
    "Amp_HV2_APO3_err_log = ((Amp_HV2_APO3_err)/(Amp_HV2_APO3))/np.log(10)\n",
    "\n",
    "Amp_HV1_Gaia =  Amp_HV1 * R_Gaia_final**rpw\n",
    "#no err\n",
    "\n",
    "Amp_HV2_Gaia =  Amp_HV2 * R_Gaia_final**rpw\n",
    "#no err\n",
    "\n",
    "Amp_HV1_err_log = ((Amp_HV1_err)/(Amp_HV1))/np.log(10)\n",
    "Amp_HV2_err_log = ((Amp_HV2_err)/(Amp_HV2))/np.log(10)\n",
    "Freq_HV1_err_log = ((Freq_HV1_err)/(Freq_HV1))/np.log(10)\n",
    "Freq_HV2_err_log = ((Freq_HV2_err)/(Freq_HV2))/np.log(10)"
   ]
  },
  {
   "cell_type": "code",
   "execution_count": 20,
   "id": "f859d9ba",
   "metadata": {},
   "outputs": [
    {
     "name": "stdout",
     "output_type": "stream",
     "text": [
      "nan\n"
     ]
    },
    {
     "name": "stderr",
     "output_type": "stream",
     "text": [
      "/var/folders/yk/s_2b7kzx717dbt8bm2wpx7qr0000gr/T/ipykernel_6435/3176269612.py:18: RuntimeWarning: invalid value encountered in log10\n",
      "  logg_opt, logg_cov = curve_fit(logg_fit, (np.log10(Teff_final[red_giant])-mean_l_teff), logg_final[red_giant]-mean_logg, sigma=(logg_final_err[red_giant]))\n"
     ]
    },
    {
     "ename": "ValueError",
     "evalue": "array must not contain infs or NaNs",
     "output_type": "error",
     "traceback": [
      "\u001b[0;31m---------------------------------------------------------------------------\u001b[0m",
      "\u001b[0;31mValueError\u001b[0m                                Traceback (most recent call last)",
      "\u001b[0;32m/var/folders/yk/s_2b7kzx717dbt8bm2wpx7qr0000gr/T/ipykernel_6435/3176269612.py\u001b[0m in \u001b[0;36m<module>\u001b[0;34m\u001b[0m\n\u001b[1;32m     16\u001b[0m \u001b[0mprint\u001b[0m\u001b[0;34m(\u001b[0m\u001b[0mmean_l_teff\u001b[0m\u001b[0;34m)\u001b[0m\u001b[0;34m\u001b[0m\u001b[0;34m\u001b[0m\u001b[0m\n\u001b[1;32m     17\u001b[0m \u001b[0;34m\u001b[0m\u001b[0m\n\u001b[0;32m---> 18\u001b[0;31m \u001b[0mlogg_opt\u001b[0m\u001b[0;34m,\u001b[0m \u001b[0mlogg_cov\u001b[0m \u001b[0;34m=\u001b[0m \u001b[0mcurve_fit\u001b[0m\u001b[0;34m(\u001b[0m\u001b[0mlogg_fit\u001b[0m\u001b[0;34m,\u001b[0m \u001b[0;34m(\u001b[0m\u001b[0mnp\u001b[0m\u001b[0;34m.\u001b[0m\u001b[0mlog10\u001b[0m\u001b[0;34m(\u001b[0m\u001b[0mTeff_final\u001b[0m\u001b[0;34m[\u001b[0m\u001b[0mred_giant\u001b[0m\u001b[0;34m]\u001b[0m\u001b[0;34m)\u001b[0m\u001b[0;34m-\u001b[0m\u001b[0mmean_l_teff\u001b[0m\u001b[0;34m)\u001b[0m\u001b[0;34m,\u001b[0m \u001b[0mlogg_final\u001b[0m\u001b[0;34m[\u001b[0m\u001b[0mred_giant\u001b[0m\u001b[0;34m]\u001b[0m\u001b[0;34m-\u001b[0m\u001b[0mmean_logg\u001b[0m\u001b[0;34m,\u001b[0m \u001b[0msigma\u001b[0m\u001b[0;34m=\u001b[0m\u001b[0;34m(\u001b[0m\u001b[0mlogg_final_err\u001b[0m\u001b[0;34m[\u001b[0m\u001b[0mred_giant\u001b[0m\u001b[0;34m]\u001b[0m\u001b[0;34m)\u001b[0m\u001b[0;34m)\u001b[0m\u001b[0;34m\u001b[0m\u001b[0;34m\u001b[0m\u001b[0m\n\u001b[0m\u001b[1;32m     19\u001b[0m \u001b[0mlogg_perr\u001b[0m \u001b[0;34m=\u001b[0m \u001b[0mnp\u001b[0m\u001b[0;34m.\u001b[0m\u001b[0msqrt\u001b[0m\u001b[0;34m(\u001b[0m\u001b[0mnp\u001b[0m\u001b[0;34m.\u001b[0m\u001b[0mdiag\u001b[0m\u001b[0;34m(\u001b[0m\u001b[0mlogg_cov\u001b[0m\u001b[0;34m)\u001b[0m\u001b[0;34m)\u001b[0m\u001b[0;34m\u001b[0m\u001b[0;34m\u001b[0m\u001b[0m\n\u001b[1;32m     20\u001b[0m \u001b[0mlogg_opt\u001b[0m\u001b[0;34m[\u001b[0m\u001b[0;36m1\u001b[0m\u001b[0;34m]\u001b[0m \u001b[0;34m=\u001b[0m \u001b[0;36m18.614913\u001b[0m\u001b[0;34m/\u001b[0m\u001b[0;36m0.7\u001b[0m\u001b[0;34m\u001b[0m\u001b[0;34m\u001b[0m\u001b[0m\n",
      "\u001b[0;32m~/opt/anaconda3/lib/python3.9/site-packages/scipy/optimize/minpack.py\u001b[0m in \u001b[0;36mcurve_fit\u001b[0;34m(f, xdata, ydata, p0, sigma, absolute_sigma, check_finite, bounds, method, jac, **kwargs)\u001b[0m\n\u001b[1;32m    741\u001b[0m         \u001b[0;31m# non-array_like `xdata`.\u001b[0m\u001b[0;34m\u001b[0m\u001b[0;34m\u001b[0m\u001b[0m\n\u001b[1;32m    742\u001b[0m         \u001b[0;32mif\u001b[0m \u001b[0mcheck_finite\u001b[0m\u001b[0;34m:\u001b[0m\u001b[0;34m\u001b[0m\u001b[0;34m\u001b[0m\u001b[0m\n\u001b[0;32m--> 743\u001b[0;31m             \u001b[0mxdata\u001b[0m \u001b[0;34m=\u001b[0m \u001b[0mnp\u001b[0m\u001b[0;34m.\u001b[0m\u001b[0masarray_chkfinite\u001b[0m\u001b[0;34m(\u001b[0m\u001b[0mxdata\u001b[0m\u001b[0;34m,\u001b[0m \u001b[0mfloat\u001b[0m\u001b[0;34m)\u001b[0m\u001b[0;34m\u001b[0m\u001b[0;34m\u001b[0m\u001b[0m\n\u001b[0m\u001b[1;32m    744\u001b[0m         \u001b[0;32melse\u001b[0m\u001b[0;34m:\u001b[0m\u001b[0;34m\u001b[0m\u001b[0;34m\u001b[0m\u001b[0m\n\u001b[1;32m    745\u001b[0m             \u001b[0mxdata\u001b[0m \u001b[0;34m=\u001b[0m \u001b[0mnp\u001b[0m\u001b[0;34m.\u001b[0m\u001b[0masarray\u001b[0m\u001b[0;34m(\u001b[0m\u001b[0mxdata\u001b[0m\u001b[0;34m,\u001b[0m \u001b[0mfloat\u001b[0m\u001b[0;34m)\u001b[0m\u001b[0;34m\u001b[0m\u001b[0;34m\u001b[0m\u001b[0m\n",
      "\u001b[0;32m~/opt/anaconda3/lib/python3.9/site-packages/numpy/lib/function_base.py\u001b[0m in \u001b[0;36masarray_chkfinite\u001b[0;34m(a, dtype, order)\u001b[0m\n\u001b[1;32m    486\u001b[0m     \u001b[0ma\u001b[0m \u001b[0;34m=\u001b[0m \u001b[0masarray\u001b[0m\u001b[0;34m(\u001b[0m\u001b[0ma\u001b[0m\u001b[0;34m,\u001b[0m \u001b[0mdtype\u001b[0m\u001b[0;34m=\u001b[0m\u001b[0mdtype\u001b[0m\u001b[0;34m,\u001b[0m \u001b[0morder\u001b[0m\u001b[0;34m=\u001b[0m\u001b[0morder\u001b[0m\u001b[0;34m)\u001b[0m\u001b[0;34m\u001b[0m\u001b[0;34m\u001b[0m\u001b[0m\n\u001b[1;32m    487\u001b[0m     \u001b[0;32mif\u001b[0m \u001b[0ma\u001b[0m\u001b[0;34m.\u001b[0m\u001b[0mdtype\u001b[0m\u001b[0;34m.\u001b[0m\u001b[0mchar\u001b[0m \u001b[0;32min\u001b[0m \u001b[0mtypecodes\u001b[0m\u001b[0;34m[\u001b[0m\u001b[0;34m'AllFloat'\u001b[0m\u001b[0;34m]\u001b[0m \u001b[0;32mand\u001b[0m \u001b[0;32mnot\u001b[0m \u001b[0mnp\u001b[0m\u001b[0;34m.\u001b[0m\u001b[0misfinite\u001b[0m\u001b[0;34m(\u001b[0m\u001b[0ma\u001b[0m\u001b[0;34m)\u001b[0m\u001b[0;34m.\u001b[0m\u001b[0mall\u001b[0m\u001b[0;34m(\u001b[0m\u001b[0;34m)\u001b[0m\u001b[0;34m:\u001b[0m\u001b[0;34m\u001b[0m\u001b[0;34m\u001b[0m\u001b[0m\n\u001b[0;32m--> 488\u001b[0;31m         raise ValueError(\n\u001b[0m\u001b[1;32m    489\u001b[0m             \"array must not contain infs or NaNs\")\n\u001b[1;32m    490\u001b[0m     \u001b[0;32mreturn\u001b[0m \u001b[0ma\u001b[0m\u001b[0;34m\u001b[0m\u001b[0;34m\u001b[0m\u001b[0m\n",
      "\u001b[0;31mValueError\u001b[0m: array must not contain infs or NaNs"
     ]
    }
   ],
   "source": [
    "#%matplotlib inline\n",
    "def freq_curve_fit(X, a, b, c, d):\n",
    "    x,y,z = X\n",
    "    return a+b*x+c*y+z*d\n",
    "\n",
    "def logg_fit(X, a, b):\n",
    "    x = X\n",
    "    return a + b*x\n",
    "         \n",
    "red_giant = np.where(Evol_stage == 1)\n",
    "red_clump = np.where(Evol_stage == 2)\n",
    "#print(Teff_final[red_giant])\n",
    "\n",
    "mean_logg = np.mean(logg_final[red_giant])\n",
    "mean_l_teff = np.mean(log_Teff_final[red_giant])\n",
    "print(mean_l_teff) #neg value in log_Teff_final bc of runtime warning in Teff_final, printing nan\n",
    "\n",
    "logg_opt, logg_cov = curve_fit(logg_fit, (np.log10(Teff_final[red_giant])-mean_l_teff), logg_final[red_giant]-mean_logg, sigma=(logg_final_err[red_giant]))\n",
    "logg_perr = np.sqrt(np.diag(logg_cov))\n",
    "logg_opt[1] = 18.614913/0.7\n",
    "\n",
    "theta = ((np.pi/2) - np.arctan2(logg_opt[1], 1))\n",
    "#rotated plots\n",
    "x_prime = ((np.log10(Teff_final)-mean_l_teff)*np.cos(theta)) - ((logg_final-mean_logg)*np.sin(theta))\n",
    "y_prime = ((np.log10(Teff_final)-mean_l_teff)*np.sin(theta)) + ((logg_final-mean_logg)*np.cos(theta))\n",
    "coeffs = np.ones((4, 6, 2)) #switch 2 and 4?\n",
    "coeffs_err = np.ones((4, 6, 2))"
   ]
  },
  {
   "cell_type": "code",
   "execution_count": null,
   "id": "bea44300",
   "metadata": {},
   "outputs": [],
   "source": [
    "#fit in rotated atm params with respect to APO3 R corrected amps\n",
    "\n",
    "#amplitude 1 red giants\n",
    "A1_Rg_x_opt, A1_Rg_x_cov = curve_fit(freq_curve_fit, (x_prime[red_giant], y_prime[red_giant], FeH_final[red_giant]), np.log10(Amp_HV1_APO3[red_giant]), sigma=(Amp_HV1_APO3_err_log[red_giant]))\n",
    "A1_Rg_x_perr = np.sqrt(np.diag(A1_Rg_x_cov))\n",
    "coeffs[:,4,0] = A1_Rg_x_opt\n",
    "coeffs_err[:,4,0] = A1_Rg_x_perr\n",
    "print('A1_RG')\n",
    "print(A1_Rg_x_opt)\n",
    "print(A1_Rg_x_perr)\n",
    "\n",
    "#amplitude 1 red clump\n",
    "A1_Rc_x_opt, A1_Rc_x_cov = curve_fit(freq_curve_fit, (x_prime[red_clump], y_prime[red_clump], FeH_final[red_clump]), np.log10(Amp_HV1_APO3[red_clump]), sigma=(Amp_HV1_APO3_err_log[red_clump]))\n",
    "A1_Rc_x_perr = np.sqrt(np.diag(A1_Rc_x_cov))\n",
    "coeffs[:,4,1] = A1_Rc_x_opt\n",
    "coeffs_err[:,4,1] = A1_Rc_x_perr\n",
    "print('A1_RC')\n",
    "print(A1_Rc_x_opt)\n",
    "print(A1_Rc_x_perr)\n",
    "\n",
    "#amplitude 2 red giants\n",
    "A2_Rg_x_opt, A2_Rg_x_cov = curve_fit(freq_curve_fit, (x_prime[red_giant], y_prime[red_giant], FeH_final[red_giant]), np.log10(Amp_HV2_APO3[red_giant]), sigma=(Amp_HV2_APO3_err_log[red_giant]))\n",
    "A2_Rg_x_perr = np.sqrt(np.diag(A2_Rg_x_cov))\n",
    "coeffs[:,5,0] = A2_Rg_x_opt\n",
    "coeffs_err[:,5,0] = A2_Rg_x_perr\n",
    "print('A2_RG')\n",
    "print(A2_Rg_x_opt)\n",
    "print(A2_Rg_x_perr)\n",
    "\n",
    "#amplitude 2 red clump\n",
    "A2_Rc_x_opt, A2_Rc_x_cov = curve_fit(freq_curve_fit, (x_prime[red_clump], y_prime[red_clump], FeH_final[red_clump]), np.log10(Amp_HV2_APO3[red_clump]), sigma=(Amp_HV2_APO3_err_log[red_clump]))\n",
    "A2_Rc_x_perr = np.sqrt(np.diag(A2_Rc_x_cov))\n",
    "coeffs[:,5,1] = A2_Rc_x_opt\n",
    "coeffs_err[:,5,1] = A2_Rc_x_perr\n",
    "print(np.shape(Amp_HV2_err_log[red_clump]))\n",
    "print(np.shape(x_prime[red_clump]))\n",
    "print('A2_RC')\n",
    "print(A2_Rc_x_opt)\n",
    "print(A2_Rc_x_perr)"
   ]
  },
  {
   "cell_type": "code",
   "execution_count": null,
   "id": "5d24ec27",
   "metadata": {},
   "outputs": [],
   "source": [
    "#fit in rotated atm params with respect to Gaia R corrected amps\n",
    "#no sigma\n",
    "\n",
    "#amplitude 1 red giants\n",
    "A1_Rg_x_opt, A1_Rg_x_cov = curve_fit(freq_curve_fit, (x_prime[red_giant], y_prime[red_giant], FeH_final[red_giant]), np.log10(Amp_HV1_Gaia[red_giant]))\n",
    "A1_Rg_x_perr = np.sqrt(np.diag(A1_Rg_x_cov))\n",
    "coeffs[:,4,0] = A1_Rg_x_opt\n",
    "coeffs_err[:,4,0] = A1_Rg_x_perr\n",
    "print('A1_RG')\n",
    "print(A1_Rg_x_opt)\n",
    "print(A1_Rg_x_perr)\n",
    "\n",
    "#amplitude 1 red clump\n",
    "A1_Rc_x_opt, A1_Rc_x_cov = curve_fit(freq_curve_fit, (x_prime[red_clump], y_prime[red_clump], FeH_final[red_clump]), np.log10(Amp_HV1_Gaia[red_clump]))\n",
    "A1_Rc_x_perr = np.sqrt(np.diag(A1_Rc_x_cov))\n",
    "coeffs[:,4,1] = A1_Rc_x_opt\n",
    "coeffs_err[:,4,1] = A1_Rc_x_perr\n",
    "print('A1_RC')\n",
    "print(A1_Rc_x_opt)\n",
    "print(A1_Rc_x_perr)\n",
    "\n",
    "#amplitude 2 red giants\n",
    "A2_Rg_x_opt, A2_Rg_x_cov = curve_fit(freq_curve_fit, (x_prime[red_giant], y_prime[red_giant], FeH_final[red_giant]), np.log10(Amp_HV2_Gaia[red_giant]))\n",
    "A2_Rg_x_perr = np.sqrt(np.diag(A2_Rg_x_cov))\n",
    "coeffs[:,5,0] = A2_Rg_x_opt\n",
    "coeffs_err[:,5,0] = A2_Rg_x_perr\n",
    "print('A2_RG')\n",
    "print(A2_Rg_x_opt)\n",
    "print(A2_Rg_x_perr)\n",
    "\n",
    "#amplitude 2 red clump\n",
    "A2_Rc_x_opt, A2_Rc_x_cov = curve_fit(freq_curve_fit, (x_prime[red_clump], y_prime[red_clump], FeH_final[red_clump]), np.log10(Amp_HV2_Gaia[red_clump]))\n",
    "A2_Rc_x_perr = np.sqrt(np.diag(A2_Rc_x_cov))\n",
    "coeffs[:,5,1] = A2_Rc_x_opt\n",
    "coeffs_err[:,5,1] = A2_Rc_x_perr\n",
    "print(np.shape(Amp_HV2_err_log[red_clump]))\n",
    "print(np.shape(x_prime[red_clump]))\n",
    "print('A2_RC')\n",
    "print(A2_Rc_x_opt)\n",
    "print(A2_Rc_x_perr)"
   ]
  },
  {
   "cell_type": "code",
   "execution_count": null,
   "id": "7ab9e1c0",
   "metadata": {},
   "outputs": [],
   "source": [
    "N_RC = np.size(red_clump)\n",
    "log_Teff_final_RG = log_Teff_final[red_giant]\n",
    "log_Teff_final_RC = log_Teff_final[red_clump]\n",
    "logg_final_RG = logg_final[red_giant]\n",
    "logg_final_RC = logg_final[red_clump]\n",
    "FeH_final_RG = FeH_final[red_giant]\n",
    "FeH_final_RC = FeH_final[red_clump]\n",
    "print(N_RC)\n",
    "index_RC = ()\n",
    "index_RG = ()\n",
    "eps = 0.04\n",
    "print(type(index_RC))\n",
    "#print(type(red_giant))\n",
    "for i in range(0, N_RC): \n",
    "    dist = np.sqrt((7*(log_Teff_final_RG-log_Teff_final_RC[i]))**2 + (logg_final_RG-logg_final_RC[i])**2 + (3*(FeH_final_RG-FeH_final_RC[i]))**2)\n",
    "    min_dist = (np.min(dist))\n",
    "    if min_dist < eps:\n",
    "        index = np.where(dist == min_dist)\n",
    "        index_RC = index_RC + (i,)\n",
    "        #index_RC = np.append(index_RC, i)\n",
    "        index_RG = index_RG + (index[0],)\n",
    "        #print(index[0])\n",
    "print(np.size(index_RC), np.size(index_RG))\n",
    "print(index_RG)\n",
    "np.shape(index_RG)"
   ]
  }
 ],
 "metadata": {
  "kernelspec": {
   "display_name": "Python 3 (ipykernel)",
   "language": "python",
   "name": "python3"
  },
  "language_info": {
   "codemirror_mode": {
    "name": "ipython",
    "version": 3
   },
   "file_extension": ".py",
   "mimetype": "text/x-python",
   "name": "python",
   "nbconvert_exporter": "python",
   "pygments_lexer": "ipython3",
   "version": "3.9.7"
  }
 },
 "nbformat": 4,
 "nbformat_minor": 5
}
