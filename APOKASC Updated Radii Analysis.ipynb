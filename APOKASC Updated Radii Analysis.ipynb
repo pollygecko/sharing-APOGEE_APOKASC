{
 "cells": [
  {
   "cell_type": "code",
   "execution_count": 30,
   "id": "aaa34e8e",
   "metadata": {},
   "outputs": [],
   "source": [
    "import astropy\n",
    "from astropy.io import fits\n",
    "import numpy as np\n",
    "import matplotlib.pyplot as plt\n",
    "from scipy.optimize import curve_fit\n",
    "from matplotlib.pyplot import figure"
   ]
  },
  {
   "cell_type": "code",
   "execution_count": 46,
   "id": "626f21cd",
   "metadata": {},
   "outputs": [],
   "source": [
    "#APOKASC file & file variables\n",
    "hdul = fits.open(r\"/Users/amber3/Desktop/SSI/APOKASC_cat_v6.7.2.fits\")\n",
    "#hdul.info()\n",
    "hdu = hdul[1]\n",
    "data = hdu.data\n",
    "#print(np.shape(data))\n",
    "KIC_A = hdu.data['KEPLER_INT'] \n",
    "Logg_A = hdu.data['DR16_LOGG_COR']\n",
    "Logg_err = hdu.data['DR16_LOGG_COR_ERR']\n",
    "Teff_A = hdu.data['DR16_TEFF_COR']\n",
    "Teff_err = hdu.data['DR16_TEFF_COR_ERR']\n",
    "FeH_A = hdu.data['DR16_M_H_COR']\n",
    "#print(Logg_A)\n",
    "FeH_err = hdu.data['DR16_M_H_COR_ERR']\n",
    "R_APO3 = hdu.data['APOKASC3P_RADIUS']\n",
    "R_APO3_err = hdu.data['APOKASC3P_RADIUS_ERR']\n",
    "R_Gaia = hdu.data['GAIA_RADIUS'] #no error on this radius\n",
    "M_APO3 = hdu.data['APOKASC3P_MASS']\n",
    "M_APO3_err = hdu.data['APOKASC3P_MASS_ERR']"
   ]
  },
  {
   "cell_type": "code",
   "execution_count": 47,
   "id": "acaed431",
   "metadata": {},
   "outputs": [
    {
     "name": "stdout",
     "output_type": "stream",
     "text": [
      "[ 1027337.  1161447.  1163453. ... 12784683. 12784948. 12884116.]\n"
     ]
    }
   ],
   "source": [
    "#APOLLINAIRE file & file variables (b = background)\n",
    "hdul_b = fits.open(r\"/Users/amber3/Desktop/SSI/Selected_stars_final.fits\")\n",
    "hdu_b = hdul_b[0]\n",
    "data_b = hdu_b.data\n",
    "KIC_b = np.array(data_b[:,0,0])\n",
    "print(KIC_b)"
   ]
  },
  {
   "cell_type": "code",
   "execution_count": 48,
   "id": "8f9c7a33",
   "metadata": {},
   "outputs": [
    {
     "name": "stdout",
     "output_type": "stream",
     "text": [
      "(4000,) (4000,)\n",
      "[10000151 10000162 10000198 ...  9996342  9996347  9996595] [ 1027337.  1161447.  1163453. ... 12784683. 12784948. 12884116.]\n"
     ]
    }
   ],
   "source": [
    "common_KIC, A_indices, b_indices = np.intersect1d(KIC_A, KIC_b, return_indices=True)\n",
    "#print(np.shape(A_indices), np.shape(b_indices))\n",
    "good_indices = np.where(Teff_A[A_indices]*R_APO3[A_indices] > 0)\n",
    "b_indices = b_indices[good_indices]\n",
    "A_indices = A_indices[good_indices]\n",
    "KIC_b = KIC_b[b_indices]\n",
    "Amp_HV1 = np.array(data_b[b_indices,0,6])\n",
    "Amp_HV1_err = np.array(data_b[b_indices,1,6])\n",
    "Amp_HV2 = np.array(data_b[b_indices,0,9])\n",
    "Amp_HV2_err = np.array(data_b[b_indices,1,9])\n",
    "Freq_HV1 = np.array(data_b[b_indices,0,7])\n",
    "Freq_HV1_err = np.array(data_b[b_indices,1,7])\n",
    "Freq_HV2 = np.array(data_b[b_indices,0,10])\n",
    "Freq_HV2_err = np.array(data_b[b_indices,1,10])\n",
    "Evol_stage = np.array(data_b[b_indices,0,3])\n",
    "#print(KIC_A, KIC_b)"
   ]
  },
  {
   "cell_type": "code",
   "execution_count": null,
   "id": "2d741af1",
   "metadata": {},
   "outputs": [],
   "source": []
  }
 ],
 "metadata": {
  "kernelspec": {
   "display_name": "Python 3 (ipykernel)",
   "language": "python",
   "name": "python3"
  },
  "language_info": {
   "codemirror_mode": {
    "name": "ipython",
    "version": 3
   },
   "file_extension": ".py",
   "mimetype": "text/x-python",
   "name": "python",
   "nbconvert_exporter": "python",
   "pygments_lexer": "ipython3",
   "version": "3.9.7"
  }
 },
 "nbformat": 4,
 "nbformat_minor": 5
}
