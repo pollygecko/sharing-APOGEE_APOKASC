{
 "cells": [
  {
   "cell_type": "code",
   "execution_count": 52,
   "id": "1b1b8157",
   "metadata": {},
   "outputs": [],
   "source": [
    "import astropy\n",
    "from astropy.io import fits\n",
    "from astropy.io import ascii\n",
    "import numpy as np\n",
    "import matplotlib.pyplot as plt\n",
    "from scipy.optimize import curve_fit\n",
    "from scipy import odr\n",
    "from matplotlib.pyplot import figure"
   ]
  },
  {
   "cell_type": "code",
   "execution_count": 53,
   "id": "c4b9c67f",
   "metadata": {},
   "outputs": [],
   "source": [
    "#APOKASC file & file variables\n",
    "hdul = fits.open(r\"/Users/amber3/Desktop/SSI/APOKASC_cat_v6.7.2.fits\")\n",
    "hdu = hdul[1]\n",
    "A_data = hdu.data\n",
    "#print(np.size(A_data))\n",
    "KIC_A = hdu.data['KEPLER_INT'] \n",
    "Logg_A = hdu.data['DR16_LOGG_COR']\n",
    "Teff_A = hdu.data['DR16_TEFF_COR']\n",
    "FeH_A = hdu.data['DR16_M_H_COR']\n",
    "R_APO3 = hdu.data['APOKASC3P_RADIUS']"
   ]
  },
  {
   "cell_type": "code",
   "execution_count": 54,
   "id": "5bac61ad",
   "metadata": {},
   "outputs": [],
   "source": [
    "#GAIA file variables\n",
    "#there are some empty entries in error and radius, so flags are put in as -42 and only pos entries are taken\n",
    "G_data = ascii.read('/Users/amber3/Desktop/gaia_radii_apokasc3 .dat', delimiter = ',') #data_Splitter = 'KIC') #fill_values = [('-42.0', '', '-42.0')])\n",
    "KIC_G = G_data['KIC']\n",
    "R_G = 1.0/G_data['inv_r_gaia_K_MIST']\n",
    "R_G_err_per = G_data['inv_r_gaia_K_MIST_err']/G_data['inv_r_gaia_K_MIST'] \n",
    "R_G_err = R_G_err_per * R_G"
   ]
  },
  {
   "cell_type": "code",
   "execution_count": 55,
   "id": "9ba5374e",
   "metadata": {},
   "outputs": [],
   "source": [
    "#APOLLINAIRE file & file variables (b = background)\n",
    "hdul_b = fits.open(r\"/Users/amber3/Desktop/SSI/Selected_stars_final.fits\")\n",
    "hdu_b = hdul_b[0]\n",
    "B_data = hdu_b.data\n",
    "KIC_B = np.array(B_data[:,0,0])"
   ]
  },
  {
   "cell_type": "code",
   "execution_count": 56,
   "id": "44277a21",
   "metadata": {},
   "outputs": [],
   "source": [
    "#Intersection between Apollinaire and APOKASC\n",
    "common_KIC, A_indices, B_indices = np.intersect1d(KIC_A, KIC_B, return_indices=True)\n",
    "\n",
    "good_indices = np.where((Teff_A[A_indices] > 0) & (R_APO3[A_indices] > 0))\n",
    "bad_indices = np.where(np.logical_or(Teff_A[A_indices] <= 0, R_APO3[A_indices] <= 0))\n",
    "\n",
    "B_indices = B_indices[good_indices]\n",
    "A_indices = A_indices[good_indices]\n",
    "\n",
    "A_data = A_data[A_indices]\n",
    "B_data = np.array(B_data[B_indices,:,:])\n",
    "\n",
    "KIC_B = np.array(B_data[:,0,0])"
   ]
  },
  {
   "cell_type": "code",
   "execution_count": 57,
   "id": "0167348e",
   "metadata": {},
   "outputs": [],
   "source": [
    "#intersection between Gaia and (Apollinaire & APOkasc)\n",
    "common_KIC_G, G_indices, AB_indices = np.intersect1d(KIC_G, KIC_B, return_indices=True)\n",
    "good_indices = np.where((R_G[G_indices] > 0) & (R_G_err[G_indices] > 0))\n",
    "G_indices = G_indices[good_indices]\n",
    "AB_indices = AB_indices[good_indices]\n",
    "\n",
    "G_data = G_data[G_indices]\n",
    "A_data = A_data[AB_indices]\n",
    "B_data = B_data[AB_indices]"
   ]
  },
  {
   "cell_type": "code",
   "execution_count": 58,
   "id": "9f7cd30f",
   "metadata": {},
   "outputs": [],
   "source": [
    "#Variables\n",
    "ln10 = np.log(10)\n",
    "Teff = A_data['DR16_TEFF_COR']\n",
    "logTeff = np.log10(Teff)\n",
    "elogTeff = A_data['DR16_TEFF_COR_ERR']/Teff/ln10\n",
    "logg = A_data['DR16_LOGG_COR']\n",
    "elogg = A_data['DR16_LOGG_COR_ERR']\n",
    "FeH = A_data['DR16_M_H_COR']\n",
    "eFeH = A_data['Dr16_M_H_COR_ERR']\n",
    "logAmp1 = np.log10(B_data[:,0,6])\n",
    "elogAmp1 = B_data[:,1,6]/B_data[:,0,6]/ln10\n",
    "logAmp2 = np.log10(B_data[:,0,9])\n",
    "elogAmp2 = B_data[:,1,9]/B_data[:,0,9]/ln10\n",
    "logFreq1 = np.log10(B_data[:,0,7])\n",
    "elogFreq1 = B_data[:,1,7]/B_data[:,0,7]/ln10\n",
    "logFreq2 = np.log10(B_data[:,0,10])\n",
    "elogFreq2 = B_data[:,1,10]/B_data[:,0,10]/ln10\n",
    "Evolstage = B_data[:,0,3]"
   ]
  },
  {
   "cell_type": "code",
   "execution_count": 59,
   "id": "135cd859",
   "metadata": {},
   "outputs": [],
   "source": [
    "#General function for orthogonal fitting of amps and freqs\n",
    "def odr_fit(A, X):\n",
    "    x,y,z = X\n",
    "    return A[0]+A[1]*x+A[2]*y+A[3]*z"
   ]
  },
  {
   "cell_type": "code",
   "execution_count": 60,
   "id": "7c306655",
   "metadata": {},
   "outputs": [],
   "source": [
    "def fittings(x,sx,y,sy):\n",
    "    c_data = odr.RealData(x, y, sx=sx, sy=sy)\n",
    "    linear = odr.Model(odr_fit)\n",
    "    beta0 = [183.7, -48.0, -0.73, -0.52] #\n",
    "    c_odr = odr.ODR(c_data, linear, beta0=beta0)\n",
    "    c_output = c_odr.run()\n",
    "    c_output.pprint()\n",
    "    #return coefficients, save to variable"
   ]
  },
  {
   "cell_type": "code",
   "execution_count": 61,
   "id": "75304421",
   "metadata": {},
   "outputs": [
    {
     "ename": "IndentationError",
     "evalue": "expected an indented block (3805463755.py, line 1)",
     "output_type": "error",
     "traceback": [
      "\u001b[0;36m  File \u001b[0;32m\"/var/folders/yk/s_2b7kzx717dbt8bm2wpx7qr0000gr/T/ipykernel_11980/3805463755.py\"\u001b[0;36m, line \u001b[0;32m1\u001b[0m\n\u001b[0;31m    def plottings():\u001b[0m\n\u001b[0m                    ^\u001b[0m\n\u001b[0;31mIndentationError\u001b[0m\u001b[0;31m:\u001b[0m expected an indented block\n"
     ]
    }
   ],
   "source": [
    "def plottings():"
   ]
  },
  {
   "cell_type": "code",
   "execution_count": 62,
   "id": "a525866c",
   "metadata": {},
   "outputs": [
    {
     "ename": "NameError",
     "evalue": "name 'iRG' is not defined",
     "output_type": "error",
     "traceback": [
      "\u001b[0;31m---------------------------------------------------------------------------\u001b[0m",
      "\u001b[0;31mNameError\u001b[0m                                 Traceback (most recent call last)",
      "\u001b[0;32m/var/folders/yk/s_2b7kzx717dbt8bm2wpx7qr0000gr/T/ipykernel_11980/2080751070.py\u001b[0m in \u001b[0;36m<module>\u001b[0;34m\u001b[0m\n\u001b[1;32m      1\u001b[0m \u001b[0;32mfor\u001b[0m \u001b[0mj\u001b[0m \u001b[0;32min\u001b[0m \u001b[0;34m(\u001b[0m\u001b[0;36m1\u001b[0m\u001b[0;34m,\u001b[0m\u001b[0;36m2\u001b[0m\u001b[0;34m,\u001b[0m\u001b[0;36m3\u001b[0m\u001b[0;34m,\u001b[0m\u001b[0;36m4\u001b[0m\u001b[0;34m)\u001b[0m\u001b[0;34m:\u001b[0m\u001b[0;34m\u001b[0m\u001b[0;34m\u001b[0m\u001b[0m\n\u001b[1;32m      2\u001b[0m     \u001b[0;32mif\u001b[0m \u001b[0mj\u001b[0m \u001b[0;34m==\u001b[0m \u001b[0;36m1\u001b[0m\u001b[0;34m:\u001b[0m \u001b[0;31m#all red giants\u001b[0m\u001b[0;34m\u001b[0m\u001b[0;34m\u001b[0m\u001b[0m\n\u001b[0;32m----> 3\u001b[0;31m         \u001b[0mii\u001b[0m \u001b[0;34m=\u001b[0m \u001b[0miRG\u001b[0m\u001b[0;34m\u001b[0m\u001b[0;34m\u001b[0m\u001b[0m\n\u001b[0m\u001b[1;32m      4\u001b[0m         \u001b[0mprint\u001b[0m\u001b[0;34m(\u001b[0m\u001b[0;34m'Giants_Gaia'\u001b[0m\u001b[0;34m)\u001b[0m\u001b[0;34m\u001b[0m\u001b[0;34m\u001b[0m\u001b[0m\n\u001b[1;32m      5\u001b[0m     \u001b[0;32melif\u001b[0m \u001b[0mj\u001b[0m \u001b[0;34m==\u001b[0m \u001b[0;36m2\u001b[0m\u001b[0;34m:\u001b[0m\u001b[0;34m\u001b[0m\u001b[0;34m\u001b[0m\u001b[0m\n",
      "\u001b[0;31mNameError\u001b[0m: name 'iRG' is not defined"
     ]
    }
   ],
   "source": [
    "for j in (1,2,3,4):\n",
    "    if j == 1: #all red giants\n",
    "        ii = iRG\n",
    "        print('Giants_Gaia')\n",
    "    elif j == 2: \n",
    "        ii = iRC\n",
    "    elif j == 3: #3 and 4 could be for matched subsample\n",
    "        ...\n",
    "    elif j== 4:\n",
    "        ...\n",
    "    else:\n",
    "        print('how did we get here??')\n",
    "    x = [logTeff[ii], logg[ii], FeH[ii]]\n",
    "    sx = [elogTeff[ii], elogg[ii], eFeH[ii]]\n",
    "    #y = [logAmp1[ii], logFreq1[ii], logAmp2[ii], logFreq2[ii]]\n",
    "    #sy = [elogAmp1[ii], elogFreq1[ii], elogAmp2[ii], elogFreq2[ii]]\n",
    "    #fittings(x,sx,y,sy)\n",
    "    \n",
    "    y = [logAmp1[ii]]\n",
    "    sy = [elogAmp1[ii]]\n",
    "    print('A1_fit:')\n",
    "    #call varaible coefficients here\n",
    "    fittings(x,sx,y,sy)\n",
    "    \n",
    "    y = [logFreq1[ii]]\n",
    "    sy = [elogAmp1[ii], elogFreq1[ii], elogAmp2[ii], elogFreq2[ii]]\n",
    "    fittings(x,sx,y,sy)\n",
    "    \n",
    "    y = [logAmp1[ii], logFreq1[ii], logAmp2[ii], logFreq2[ii]]\n",
    "    sy = [elogAmp1[ii], elogFreq1[ii], elogAmp2[ii], elogFreq2[ii]]\n",
    "    fittings(x,sx,y,sy)\n",
    "    \n",
    "    y = [logAmp1[ii], logFreq1[ii], logAmp2[ii], logFreq2[ii]]\n",
    "    sy = [elogAmp1[ii], elogFreq1[ii], elogAmp2[ii], elogFreq2[ii]]\n",
    "    fittings(x,sx,y,sy)\n",
    "    plottings()"
   ]
  }
 ],
 "metadata": {
  "kernelspec": {
   "display_name": "Python 3 (ipykernel)",
   "language": "python",
   "name": "python3"
  },
  "language_info": {
   "codemirror_mode": {
    "name": "ipython",
    "version": 3
   },
   "file_extension": ".py",
   "mimetype": "text/x-python",
   "name": "python",
   "nbconvert_exporter": "python",
   "pygments_lexer": "ipython3",
   "version": "3.9.7"
  }
 },
 "nbformat": 4,
 "nbformat_minor": 5
}
