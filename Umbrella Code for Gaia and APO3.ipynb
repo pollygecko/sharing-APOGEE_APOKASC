{
 "cells": [
  {
   "cell_type": "code",
   "execution_count": 13,
   "id": "1b1b8157",
   "metadata": {},
   "outputs": [],
   "source": [
    "import astropy\n",
    "from astropy.io import fits\n",
    "from astropy.io import ascii\n",
    "import numpy as np\n",
    "import matplotlib.pyplot as plt\n",
    "from scipy.optimize import curve_fit\n",
    "from scipy import odr\n",
    "from matplotlib.pyplot import figure"
   ]
  },
  {
   "cell_type": "code",
   "execution_count": 14,
   "id": "c4b9c67f",
   "metadata": {},
   "outputs": [],
   "source": [
    "#APOKASC file & file variables\n",
    "hdul = fits.open(r\"/Users/amber3/Desktop/SSI/APOKASC_cat_v6.7.2.fits\")\n",
    "hdu = hdul[1]\n",
    "A_data = hdu.data\n",
    "#print(np.size(A_data))\n",
    "KIC_A = hdu.data['KEPLER_INT'] \n",
    "Logg_A = hdu.data['DR16_LOGG_COR']\n",
    "Teff_A = hdu.data['DR16_TEFF_COR']\n",
    "FeH_A = hdu.data['DR16_M_H_COR']\n",
    "R_APO3 = hdu.data['APOKASC3P_RADIUS']"
   ]
  },
  {
   "cell_type": "code",
   "execution_count": 15,
   "id": "5bac61ad",
   "metadata": {},
   "outputs": [],
   "source": [
    "#GAIA file variables\n",
    "#there are some empty entries in error and radius, so flags are put in as -42 and only pos entries are taken\n",
    "G_data = ascii.read('/Users/amber3/Desktop/gaia_radii_apokasc3 .dat', delimiter = ',') #data_Splitter = 'KIC') #fill_values = [('-42.0', '', '-42.0')])\n",
    "KIC_G = G_data['KIC']\n",
    "R_G = 1.0/G_data['inv_r_gaia_K_MIST']\n",
    "R_G_err_per = G_data['inv_r_gaia_K_MIST_err']/G_data['inv_r_gaia_K_MIST'] \n",
    "R_G_err = R_G_err_per * R_G"
   ]
  },
  {
   "cell_type": "code",
   "execution_count": 16,
   "id": "9ba5374e",
   "metadata": {},
   "outputs": [],
   "source": [
    "#APOLLINAIRE file & file variables (b = background)\n",
    "hdul_b = fits.open(r\"/Users/amber3/Desktop/SSI/Selected_stars_final.fits\")\n",
    "hdu_b = hdul_b[0]\n",
    "B_data = hdu_b.data\n",
    "KIC_B = np.array(B_data[:,0,0])"
   ]
  },
  {
   "cell_type": "code",
   "execution_count": 17,
   "id": "44277a21",
   "metadata": {},
   "outputs": [],
   "source": [
    "#Intersection between Apollinaire and APOKASC\n",
    "common_KIC, A_indices, B_indices = np.intersect1d(KIC_A, KIC_B, return_indices=True)\n",
    "\n",
    "good_indices = np.where((Teff_A[A_indices] > 0) & (R_APO3[A_indices] > 0))\n",
    "bad_indices = np.where(np.logical_or(Teff_A[A_indices] <= 0, R_APO3[A_indices] <= 0))\n",
    "\n",
    "B_indices = B_indices[good_indices]\n",
    "A_indices = A_indices[good_indices]\n",
    "\n",
    "A_data = A_data[A_indices]\n",
    "B_data = np.array(B_data[B_indices,:,:])\n",
    "\n",
    "KIC_B = np.array(B_data[:,0,0])"
   ]
  },
  {
   "cell_type": "code",
   "execution_count": 18,
   "id": "0167348e",
   "metadata": {},
   "outputs": [],
   "source": [
    "#intersection between Gaia and (Apollinaire & Apokasc)\n",
    "common_KIC_G, G_indices, AB_indices = np.intersect1d(KIC_G, KIC_B, return_indices=True)\n",
    "good_indices = np.where((R_G[G_indices] > 0) & (R_G_err[G_indices] > 0))\n",
    "G_indices = G_indices[good_indices]\n",
    "AB_indices = AB_indices[good_indices]\n",
    "\n",
    "G_data = G_data[G_indices]\n",
    "A_data = A_data[AB_indices]\n",
    "B_data = B_data[AB_indices]"
   ]
  },
  {
   "cell_type": "code",
   "execution_count": 19,
   "id": "9f7cd30f",
   "metadata": {},
   "outputs": [],
   "source": [
    "#Raw data Variables\n",
    "ln10 = np.log(10)\n",
    "Teff = A_data['DR16_TEFF_COR']\n",
    "logTeff = np.log10(Teff)\n",
    "elogTeff = A_data['DR16_TEFF_COR_ERR']/Teff/ln10\n",
    "logg = A_data['DR16_LOGG_COR']\n",
    "elogg = A_data['DR16_LOGG_COR_ERR']\n",
    "FeH = A_data['DR16_M_H_COR']\n",
    "eFeH = A_data['Dr16_M_H_COR_ERR']\n",
    "logAmp1 = np.log10(B_data[:,0,6])\n",
    "elogAmp1 = B_data[:,1,6]/B_data[:,0,6]/ln10\n",
    "logAmp2 = np.log10(B_data[:,0,9])\n",
    "elogAmp2 = B_data[:,1,9]/B_data[:,0,9]/ln10\n",
    "logFreq1 = np.log10(B_data[:,0,7])\n",
    "elogFreq1 = B_data[:,1,7]/B_data[:,0,7]/ln10\n",
    "logFreq2 = np.log10(B_data[:,0,10])\n",
    "elogFreq2 = B_data[:,1,10]/B_data[:,0,10]/ln10\n",
    "Evolstage = B_data[:,0,3]\n",
    "iRG = np.where(Evolstage == 1)\n",
    "iRC = np.where(Evolstage == 2)\n",
    "iRGs = ()\n",
    "iRCs = ()\n",
    "logR_G = -np.log10(G_data['inv_r_gaia_K_MIST'])\n",
    "elogR_G = G_data['inv_r_gaia_K_MIST_err']/G_data['inv_r_gaia_K_MIST']/ln10\n",
    "logR_A = A_data['APOKASC3P_RADIUS'] #check\n",
    "elogR_A = A_data['APOKASC3P_RADIUS_ERR'] #check\n",
    "rpw = 2"
   ]
  },
  {
   "cell_type": "code",
   "execution_count": 20,
   "id": "2e3e31f2",
   "metadata": {},
   "outputs": [],
   "source": [
    "def linear_fit(X,a,b,c,d):\n",
    "    x,y,z = X\n",
    "    return a+b*x+c*y+z*d"
   ]
  },
  {
   "cell_type": "code",
   "execution_count": 21,
   "id": "135cd859",
   "metadata": {},
   "outputs": [],
   "source": [
    "#General function for orthogonal fitting of amps and freqs\n",
    "def odr_fit(A, X):\n",
    "    x,y,z = X\n",
    "    return A[0]+A[1]*x+A[2]*y+A[3]*z"
   ]
  },
  {
   "cell_type": "code",
   "execution_count": 22,
   "id": "7c306655",
   "metadata": {},
   "outputs": [],
   "source": [
    "def orth_fittings(x,sx,y,sy):\n",
    "    c_data = odr.RealData(x, y, sx=sx, sy=sy)\n",
    "    linear = odr.Model(odr_fit)\n",
    "    beta0 = [183.7, -48.0, -0.73, -0.52] #softcode first linear guesses based j in loop\n",
    "    c_odr = odr.ODR(c_data, linear, beta0=beta0)\n",
    "    c_output = c_odr.run()\n",
    "    #c_output.pprint()\n",
    "    print(c_output.beta)\n",
    "    return c_output"
   ]
  },
  {
   "cell_type": "code",
   "execution_count": 42,
   "id": "75304421",
   "metadata": {},
   "outputs": [],
   "source": [
    "#coeffs and errors are 4x2x4 arrays (input)\n",
    "def plottings(coeffs,errors):\n",
    "    %matplotlib inline\n",
    "    figure(figsize=(8,8), dpi=100)\n",
    "    minimum = np.amin(coeffs-errors)\n",
    "    maximum = np.amax(coeffs+errors)\n",
    "    margin = (maximum - minimum)*0.03\n",
    "    x = [0, 1, 2, 3]\n",
    "    #coeffs = np.ones([4,6,2])\n",
    "    #ecoeffs = np.ones([4,6,2])\n",
    "    xl = 0.70\n",
    "    dxl = 0.15\n",
    "#arrays of lines so it depends on dimensions of coeffs ? look for next time\n",
    "#IDEAS: there's update_datalim or just initialize array and specify data[] to add in handles\n",
    "    labels = ['f1', 'f2', 'A1', 'A2']\n",
    "    style = ['solid', 'dashed']\n",
    "    titl = ['red giants', 'red clump']\n",
    "    line = {}\n",
    "    for j in range(0,2): #(only using r corrected amps), j is rgb=0 or redclump=1\n",
    "        for k in range(0,4): #k is Harvey params of two components. 0=A1, 1=f1, 2=A2, 3=f2\n",
    "            line[j,k] = plt.errorbar(x, coeffs[:,j,k], yerr = errors[:,j,k], capsize = 4, linestyle = style[j], label = labels)\n",
    "        leg = plt.legend(handles=[np.reshape(line[j,:], [4])], title = titl[j], loc = (xl,0.1))\n",
    "        plt.gca().add_artist(leg)\n",
    "        return line\n",
    "        #else: \n",
    "            #line[j,k] = plt.errorbar(x, np.reshape(coeffs[]), yerr = np.reshape(), capsize = 4, linestyle = 'dashed', label = labels)\n",
    "            #leg_giant = plt.legend(handles=[line], title = 'red clump', loc = (xl,0.1))\n",
    "            #plt.gca().add_artist(leg_giant)\n",
    "    \n",
    "    plt.ylim(minimum - margin, maximum + margin)\n",
    "    plt.xticks([0, 1, 2, 3], ['const', 'log(Teff)', 'logg', '[Fe/H]'])\n",
    "    plt.ylabel('Fitting Coefficients')\n",
    "    plt.show()"
   ]
  },
  {
   "cell_type": "code",
   "execution_count": 43,
   "id": "a525866c",
   "metadata": {
    "scrolled": false
   },
   "outputs": [
    {
     "name": "stdout",
     "output_type": "stream",
     "text": [
      "Giants_Gaia\n",
      "A1_fit:\n",
      "[ 369.95964338 -101.55594751    2.53099205   -1.95686022]\n",
      "f1_fit:\n",
      "[ 648.40179735 -182.78328117    9.01718293   -3.81443906]\n",
      "A2_fit:\n",
      "[ 473.39099771 -130.75651543    3.70859076   -2.56825606]\n",
      "f2_fit:\n",
      "[ 540.59767091 -152.32244583    7.68572835   -3.19539174]\n",
      "Red_Clump_Gaia\n",
      "A1_fit:\n",
      "[182.67908575 -49.40432938   1.33364213  -1.98953653]\n",
      "f1_fit:\n",
      "[-92.5283185   26.1938668   -1.15668919   1.09529983]\n",
      "A2_fit:\n",
      "[208.29619082 -56.78685999   1.70215799  -2.40282688]\n",
      "f2_fit:\n",
      "[-67.35486573  19.11958133  -0.5998097    0.8154046 ]\n",
      "how did we get here??\n",
      "A1_fit:\n",
      "[182.67908575 -49.40432938   1.33364213  -1.98953653]\n",
      "f1_fit:\n",
      "[-92.5283185   26.1938668   -1.15668919   1.09529983]\n",
      "A2_fit:\n",
      "[208.29619082 -56.78685999   1.70215799  -2.40282688]\n",
      "f2_fit:\n",
      "[-67.35486573  19.11958133  -0.5998097    0.8154046 ]\n",
      "how did we get here??\n",
      "A1_fit:\n",
      "[182.67908575 -49.40432938   1.33364213  -1.98953653]\n",
      "f1_fit:\n",
      "[-92.5283185   26.1938668   -1.15668919   1.09529983]\n",
      "A2_fit:\n",
      "[208.29619082 -56.78685999   1.70215799  -2.40282688]\n",
      "f2_fit:\n",
      "[-67.35486573  19.11958133  -0.5998097    0.8154046 ]\n"
     ]
    }
   ],
   "source": [
    "NH = 4 #number of Harvery comps\n",
    "Nj = 4 #j samples of stars: either all red giants, all red clump, subsamples, etc\n",
    "Np = 3 + 1 #number of atm params plus offset\n",
    "c = np.ndarray((NH,Nj,Np), dtype=float)\n",
    "e = c\n",
    "\n",
    "for j in (0,1,2,3):\n",
    "    if j < 4:\n",
    "        #Use Gaia Radii\n",
    "        logAmp1_R = logAmp1 + rpw * logR_G \n",
    "        elogAmp1_R = np.sqrt(elogAmp1**2 + (rpw*elogR_G)**2)\n",
    "    else:\n",
    "        #Use APO3 Radii\n",
    "        logAmp1_R = logAmp1 + rpw * logR_A #change tp APO3 Radii variables\n",
    "        elogAmp1_R = np.sqrt(elogAmp1**2 + (rpw*elogR_A)**2)\n",
    "    if j == 0: #all red giants\n",
    "        ii = iRG\n",
    "        print('Giants_Gaia')\n",
    "    elif j == 1: #all red clump\n",
    "        ii = iRC\n",
    "        print('Red_Clump_Gaia')\n",
    "    #elif j == 2: #matched subsample giants\n",
    "        #ii = iRGs\n",
    "        #for i in range(0, np.size(iRG)):\n",
    "            #dist = np.sqrt((7*()))\n",
    "    #elif j== 3: #matched subsample clump\n",
    "        #ii = iRCs\n",
    "    else:\n",
    "        print('how did we get here??')\n",
    "    x = [logTeff[ii], logg[ii], FeH[ii]]\n",
    "    sx = [elogTeff[ii], elogg[ii], eFeH[ii]]\n",
    "    \n",
    "    y = [logAmp1[ii]]\n",
    "    sy = [elogAmp1[ii]]\n",
    "    print('A1_fit:')\n",
    "    A1_fit = orth_fittings(x,sx,y,sy)\n",
    "    c[0,j,:] = A1_fit.beta\n",
    "    e[0,j,:] = A1_fit.sd_beta\n",
    "    \n",
    "    y = [logFreq1[ii]]\n",
    "    sy = [elogFreq1[ii]]\n",
    "    print('f1_fit:')\n",
    "    f1_fit = orth_fittings(x,sx,y,sy)\n",
    "    c[1,j,:] = f1_fit.beta\n",
    "    e[1,j,:] = f1_fit.sd_beta\n",
    "    \n",
    "    y = [logAmp2[ii]]\n",
    "    sy = [elogAmp2[ii]]\n",
    "    print('A2_fit:')\n",
    "    A2_fit = orth_fittings(x,sx,y,sy)\n",
    "    c[2,j,:] = A2_fit.beta\n",
    "    e[2,j,:] = A2_fit.sd_beta\n",
    "    \n",
    "    y = [logFreq2[ii]]\n",
    "    sy = [elogFreq2[ii]]\n",
    "    print('f2_fit:')\n",
    "    f2_fit = orth_fittings(x,sx,y,sy)\n",
    "    c[3,j,:] = f2_fit.beta\n",
    "    e[3,j,:] = f2_fit.sd_beta\n"
   ]
  },
  {
   "cell_type": "code",
   "execution_count": 44,
   "id": "bae5998d",
   "metadata": {},
   "outputs": [
    {
     "name": "stdout",
     "output_type": "stream",
     "text": [
      "(4, 2, 4)\n"
     ]
    },
    {
     "ename": "TypeError",
     "evalue": "unhashable type: 'slice'",
     "output_type": "error",
     "traceback": [
      "\u001b[0;31m---------------------------------------------------------------------------\u001b[0m",
      "\u001b[0;31mTypeError\u001b[0m                                 Traceback (most recent call last)",
      "\u001b[0;32m/var/folders/yk/s_2b7kzx717dbt8bm2wpx7qr0000gr/T/ipykernel_14320/612948125.py\u001b[0m in \u001b[0;36m<module>\u001b[0;34m\u001b[0m\n\u001b[1;32m      8\u001b[0m \u001b[0;34m\u001b[0m\u001b[0m\n\u001b[1;32m      9\u001b[0m \u001b[0mprint\u001b[0m\u001b[0;34m(\u001b[0m\u001b[0mnp\u001b[0m\u001b[0;34m.\u001b[0m\u001b[0mshape\u001b[0m\u001b[0;34m(\u001b[0m\u001b[0mc\u001b[0m\u001b[0;34m[\u001b[0m\u001b[0;34m:\u001b[0m\u001b[0;34m,\u001b[0m\u001b[0;36m0\u001b[0m\u001b[0;34m:\u001b[0m\u001b[0;36m2\u001b[0m\u001b[0;34m,\u001b[0m\u001b[0;34m:\u001b[0m\u001b[0;34m]\u001b[0m\u001b[0;34m)\u001b[0m\u001b[0;34m)\u001b[0m\u001b[0;34m\u001b[0m\u001b[0;34m\u001b[0m\u001b[0m\n\u001b[0;32m---> 10\u001b[0;31m \u001b[0mline\u001b[0m \u001b[0;34m=\u001b[0m \u001b[0mplottings\u001b[0m\u001b[0;34m(\u001b[0m\u001b[0mnp\u001b[0m\u001b[0;34m.\u001b[0m\u001b[0mreshape\u001b[0m\u001b[0;34m(\u001b[0m\u001b[0mc\u001b[0m\u001b[0;34m[\u001b[0m\u001b[0;34m:\u001b[0m\u001b[0;34m,\u001b[0m\u001b[0;36m0\u001b[0m\u001b[0;34m:\u001b[0m\u001b[0;36m2\u001b[0m\u001b[0;34m,\u001b[0m\u001b[0;34m:\u001b[0m\u001b[0;34m]\u001b[0m\u001b[0;34m,\u001b[0m\u001b[0;34m[\u001b[0m\u001b[0;36m4\u001b[0m\u001b[0;34m,\u001b[0m\u001b[0;36m2\u001b[0m\u001b[0;34m,\u001b[0m\u001b[0;36m4\u001b[0m\u001b[0;34m]\u001b[0m\u001b[0;34m)\u001b[0m\u001b[0;34m,\u001b[0m\u001b[0mnp\u001b[0m\u001b[0;34m.\u001b[0m\u001b[0mreshape\u001b[0m\u001b[0;34m(\u001b[0m\u001b[0me\u001b[0m\u001b[0;34m[\u001b[0m\u001b[0;34m:\u001b[0m\u001b[0;34m,\u001b[0m\u001b[0;36m0\u001b[0m\u001b[0;34m:\u001b[0m\u001b[0;36m2\u001b[0m\u001b[0;34m,\u001b[0m\u001b[0;34m:\u001b[0m\u001b[0;34m]\u001b[0m\u001b[0;34m,\u001b[0m\u001b[0;34m[\u001b[0m\u001b[0;36m4\u001b[0m\u001b[0;34m,\u001b[0m\u001b[0;36m2\u001b[0m\u001b[0;34m,\u001b[0m\u001b[0;36m4\u001b[0m\u001b[0;34m]\u001b[0m\u001b[0;34m)\u001b[0m\u001b[0;34m)\u001b[0m \u001b[0;31m#4x2x4 array input\u001b[0m\u001b[0;34m\u001b[0m\u001b[0;34m\u001b[0m\u001b[0m\n\u001b[0m",
      "\u001b[0;32m/var/folders/yk/s_2b7kzx717dbt8bm2wpx7qr0000gr/T/ipykernel_14320/3947642742.py\u001b[0m in \u001b[0;36mplottings\u001b[0;34m(coeffs, errors)\u001b[0m\n\u001b[1;32m     20\u001b[0m         \u001b[0;32mfor\u001b[0m \u001b[0mk\u001b[0m \u001b[0;32min\u001b[0m \u001b[0mrange\u001b[0m\u001b[0;34m(\u001b[0m\u001b[0;36m0\u001b[0m\u001b[0;34m,\u001b[0m\u001b[0;36m4\u001b[0m\u001b[0;34m)\u001b[0m\u001b[0;34m:\u001b[0m \u001b[0;31m#k is Harvey params of two components. 0=A1, 1=f1, 2=A2, 3=f2\u001b[0m\u001b[0;34m\u001b[0m\u001b[0;34m\u001b[0m\u001b[0m\n\u001b[1;32m     21\u001b[0m             \u001b[0mline\u001b[0m\u001b[0;34m[\u001b[0m\u001b[0mj\u001b[0m\u001b[0;34m,\u001b[0m\u001b[0mk\u001b[0m\u001b[0;34m]\u001b[0m \u001b[0;34m=\u001b[0m \u001b[0mplt\u001b[0m\u001b[0;34m.\u001b[0m\u001b[0merrorbar\u001b[0m\u001b[0;34m(\u001b[0m\u001b[0mx\u001b[0m\u001b[0;34m,\u001b[0m \u001b[0mcoeffs\u001b[0m\u001b[0;34m[\u001b[0m\u001b[0;34m:\u001b[0m\u001b[0;34m,\u001b[0m\u001b[0mj\u001b[0m\u001b[0;34m,\u001b[0m\u001b[0mk\u001b[0m\u001b[0;34m]\u001b[0m\u001b[0;34m,\u001b[0m \u001b[0myerr\u001b[0m \u001b[0;34m=\u001b[0m \u001b[0merrors\u001b[0m\u001b[0;34m[\u001b[0m\u001b[0;34m:\u001b[0m\u001b[0;34m,\u001b[0m\u001b[0mj\u001b[0m\u001b[0;34m,\u001b[0m\u001b[0mk\u001b[0m\u001b[0;34m]\u001b[0m\u001b[0;34m,\u001b[0m \u001b[0mcapsize\u001b[0m \u001b[0;34m=\u001b[0m \u001b[0;36m4\u001b[0m\u001b[0;34m,\u001b[0m \u001b[0mlinestyle\u001b[0m \u001b[0;34m=\u001b[0m \u001b[0mstyle\u001b[0m\u001b[0;34m[\u001b[0m\u001b[0mj\u001b[0m\u001b[0;34m]\u001b[0m\u001b[0;34m,\u001b[0m \u001b[0mlabel\u001b[0m \u001b[0;34m=\u001b[0m \u001b[0mlabels\u001b[0m\u001b[0;34m)\u001b[0m\u001b[0;34m\u001b[0m\u001b[0;34m\u001b[0m\u001b[0m\n\u001b[0;32m---> 22\u001b[0;31m         \u001b[0mleg\u001b[0m \u001b[0;34m=\u001b[0m \u001b[0mplt\u001b[0m\u001b[0;34m.\u001b[0m\u001b[0mlegend\u001b[0m\u001b[0;34m(\u001b[0m\u001b[0mhandles\u001b[0m\u001b[0;34m=\u001b[0m\u001b[0;34m[\u001b[0m\u001b[0mnp\u001b[0m\u001b[0;34m.\u001b[0m\u001b[0mreshape\u001b[0m\u001b[0;34m(\u001b[0m\u001b[0mline\u001b[0m\u001b[0;34m[\u001b[0m\u001b[0mj\u001b[0m\u001b[0;34m,\u001b[0m\u001b[0;34m:\u001b[0m\u001b[0;34m]\u001b[0m\u001b[0;34m,\u001b[0m \u001b[0;34m[\u001b[0m\u001b[0;36m4\u001b[0m\u001b[0;34m]\u001b[0m\u001b[0;34m)\u001b[0m\u001b[0;34m]\u001b[0m\u001b[0;34m,\u001b[0m \u001b[0mtitle\u001b[0m \u001b[0;34m=\u001b[0m \u001b[0mtitl\u001b[0m\u001b[0;34m[\u001b[0m\u001b[0mj\u001b[0m\u001b[0;34m]\u001b[0m\u001b[0;34m,\u001b[0m \u001b[0mloc\u001b[0m \u001b[0;34m=\u001b[0m \u001b[0;34m(\u001b[0m\u001b[0mxl\u001b[0m\u001b[0;34m,\u001b[0m\u001b[0;36m0.1\u001b[0m\u001b[0;34m)\u001b[0m\u001b[0;34m)\u001b[0m\u001b[0;34m\u001b[0m\u001b[0;34m\u001b[0m\u001b[0m\n\u001b[0m\u001b[1;32m     23\u001b[0m         \u001b[0mplt\u001b[0m\u001b[0;34m.\u001b[0m\u001b[0mgca\u001b[0m\u001b[0;34m(\u001b[0m\u001b[0;34m)\u001b[0m\u001b[0;34m.\u001b[0m\u001b[0madd_artist\u001b[0m\u001b[0;34m(\u001b[0m\u001b[0mleg\u001b[0m\u001b[0;34m)\u001b[0m\u001b[0;34m\u001b[0m\u001b[0;34m\u001b[0m\u001b[0m\n\u001b[1;32m     24\u001b[0m         \u001b[0;32mreturn\u001b[0m \u001b[0mline\u001b[0m\u001b[0;34m\u001b[0m\u001b[0;34m\u001b[0m\u001b[0m\n",
      "\u001b[0;31mTypeError\u001b[0m: unhashable type: 'slice'"
     ]
    },
    {
     "data": {
      "image/png": "[encoded data removed]",
      "text/plain": [
       "<Figure size 800x800 with 1 Axes>"
      ]
     },
     "metadata": {
      "needs_background": "light"
     },
     "output_type": "display_data"
    }
   ],
   "source": [
    "#call plottings with 4 subplots here \n",
    "#reshape arrays here\n",
    "#two plots with whole sample, Gaia and APO3\n",
    "#two plots with subsample, Gaia and APO3\n",
    "#choose which radius we're using for each plot here?\n",
    "#add titles here also\n",
    "#add overplotting variable so we can change between two different radii, or full and matched subsamples, etc\n",
    "\n",
    "print(np.shape(c[:,0:2,:]))\n",
    "line = plottings(np.reshape(c[:,0:2,:],[4,2,4]),np.reshape(e[:,0:2,:],[4,2,4])) #4x2x4 array input"
   ]
  },
  {
   "cell_type": "code",
   "execution_count": null,
   "id": "7bf0adf9",
   "metadata": {},
   "outputs": [],
   "source": [
    "#google err message\n",
    "#print shape of reshaped line and line slice we want"
   ]
  }
 ],
 "metadata": {
  "kernelspec": {
   "display_name": "Python 3 (ipykernel)",
   "language": "python",
   "name": "python3"
  },
  "language_info": {
   "codemirror_mode": {
    "name": "ipython",
    "version": 3
   },
   "file_extension": ".py",
   "mimetype": "text/x-python",
   "name": "python",
   "nbconvert_exporter": "python",
   "pygments_lexer": "ipython3",
   "version": "3.9.7"
  }
 },
 "nbformat": 4,
 "nbformat_minor": 5
}
